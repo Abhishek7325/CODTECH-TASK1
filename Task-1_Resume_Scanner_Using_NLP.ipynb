{
  "nbformat": 4,
  "nbformat_minor": 0,
  "metadata": {
    "colab": {
      "provenance": []
    },
    "kernelspec": {
      "name": "python3",
      "display_name": "Python 3"
    },
    "language_info": {
      "name": "python"
    }
  },
  "cells": [
    {
      "cell_type": "markdown",
      "source": [
        "##                                                                                                             Resume Scanner Using Natural Language Processing"
      ],
      "metadata": {
        "id": "N0ZkQ1-UWAjK"
      }
    },
    {
      "cell_type": "code",
      "source": [
        "!pip install docx2txt\n",
        "import docx2txt"
      ],
      "metadata": {
        "colab": {
          "base_uri": "https://localhost:8080/"
        },
        "id": "NRe4lZZs_ayX",
        "outputId": "05f66c3c-6409-47a7-8f9f-546d7804f40b"
      },
      "execution_count": 1,
      "outputs": [
        {
          "output_type": "stream",
          "name": "stdout",
          "text": [
            "Collecting docx2txt\n",
            "  Downloading docx2txt-0.8.tar.gz (2.8 kB)\n",
            "  Preparing metadata (setup.py) ... \u001b[?25l\u001b[?25hdone\n",
            "Building wheels for collected packages: docx2txt\n",
            "  Building wheel for docx2txt (setup.py) ... \u001b[?25l\u001b[?25hdone\n",
            "  Created wheel for docx2txt: filename=docx2txt-0.8-py3-none-any.whl size=3960 sha256=57256a5c9306cf1564b61153f952ccb0c854ae6915f2acd94cf295e2a35a335a\n",
            "  Stored in directory: /root/.cache/pip/wheels/22/58/cf/093d0a6c3ecfdfc5f6ddd5524043b88e59a9a199cb02352966\n",
            "Successfully built docx2txt\n",
            "Installing collected packages: docx2txt\n",
            "Successfully installed docx2txt-0.8\n"
          ]
        }
      ]
    },
    {
      "cell_type": "code",
      "source": [
        "job_description = docx2txt.process('/content/job_Description.docx') #uploading docx file\n",
        "resume = docx2txt.process('/content/Resume1_sample.docx')"
      ],
      "metadata": {
        "id": "3OmNvYtPUR5n"
      },
      "execution_count": 2,
      "outputs": []
    },
    {
      "cell_type": "code",
      "source": [
        "print(resume) #displaying the contents of the resume file"
      ],
      "metadata": {
        "colab": {
          "base_uri": "https://localhost:8080/"
        },
        "id": "xt679W-xVDUi",
        "outputId": "fb717813-3d8e-4bf2-901d-1d42087f590c"
      },
      "execution_count": 3,
      "outputs": [
        {
          "output_type": "stream",
          "name": "stdout",
          "text": [
            "AMIE CLAUDE\n",
            "\n",
            "Software Engineer amieclaude@email.com\t (123) 456-7890\t Pittsburgh, PA\n",
            "\n",
            "\n",
            "\n",
            "LinkedIn\n",
            "\n",
            "WORK EXPERIENCE\n",
            "\n",
            "\n",
            "\n",
            "Software Engineer Intern\n",
            "\n",
            "DICK's Sporting Goods\n",
            "\n",
            " May 2020 - current\t Pittsburgh, PA · Assigned to e-commerce team, and participated in designing improved software using algorithms to match users to products, boosting sales by 16% · Participated in code reviews with product team, and gained feedback from senior engineers and experience in writing custom, scalable code\n",
            "\n",
            "· Partnered with 2 interns to understand user stories, and reported findings, goals, and progress to senior engineer\n",
            "\n",
            "· Tested and finetuned applications, reducing the instances of bugs by 7%\n",
            "\n",
            "· Ensured all technical issues were ticketed, responding to Tier 1 tickets and escalating issues at Tier 2\n",
            "\n",
            "· Presented software development and lifecycle reports to CTO and CEO with 2 other interns, receiving recognition for design ideas and implementation\n",
            "\n",
            "Online Tutor\n",
            "\n",
            "Easyke\n",
            "\n",
            "\t December 2016 - April 2020\t Pittsburgh, PA\n",
            "\n",
            "· Planned lessons for small groups of 4-6 students, providing 3 hours per week of targeted math and science · Communicated with students to discuss academic needs and goals in order to adjust lessons and assessments · Provided feedback on assignments, and retaught trouble areas until students reached 90% mastery · Engaged students in 1:1 discussions, small group discussions, and breakout sessions, utilizing various discussion methods to actively retain attention across a variety of learning styles\n",
            "\n",
            "· Wrote progress reports and feedback to present to students and administration, working with admin to adjust student plans as needed\n",
            "\n",
            "· Built in office hours for 2 hours per week for students to check-in and receive one-on-one help, which boosted their mastery level by 13%\n",
            "\n",
            "CAREER OBJECTIVE\n",
            "\n",
            "\n",
            "\n",
            "Problem solver and strong communicator eager to prove my value and talent at an emerging company like Revature. Motivated to advance and expand my skill set through targeted mentorship and challenging projects.\n",
            "\n",
            "EDUCATION\n",
            "\n",
            "\n",
            "\n",
            "B.S.\n",
            "\n",
            "Computer Science\n",
            "\n",
            "University of Pittsburgh\n",
            "\n",
            "September 2016 - April 2020\n",
            "\n",
            "Pittsburgh, PA\n",
            "\n",
            "GPA: 3.7\n",
            "\n",
            "RELEVANT COURSES\n",
            "\n",
            "\n",
            "\n",
            "Data Structures\n",
            "\n",
            "Algorithm Design\n",
            "\n",
            "Database Management Systems\n",
            "\n",
            "Computer Vision\n",
            "\n",
            "Software Design Methodology\n",
            "\n",
            "SKILLS\n",
            "\n",
            "\n",
            "\n",
            "Advanced: Python (Django), Java,\n",
            "\n",
            "Unix, Git\n",
            "\n",
            "Familiar: Javascript, SQL, HTML/CSS\n"
          ]
        }
      ]
    },
    {
      "cell_type": "code",
      "source": [
        "content = [job_description, resume]"
      ],
      "metadata": {
        "id": "l1agnjyMVN-A"
      },
      "execution_count": 4,
      "outputs": []
    },
    {
      "cell_type": "code",
      "source": [
        "from sklearn.feature_extraction.text import CountVectorizer\n",
        "cv = CountVectorizer()\n",
        "matrix = cv.fit_transform(content)"
      ],
      "metadata": {
        "id": "Y2Phe8q8VX5K"
      },
      "execution_count": 5,
      "outputs": []
    },
    {
      "cell_type": "code",
      "source": [
        "from sklearn.metrics.pairwise import cosine_similarity\n",
        "similarity_matrix = cosine_similarity(matrix)"
      ],
      "metadata": {
        "id": "e8IgkIgTVpcU"
      },
      "execution_count": 6,
      "outputs": []
    },
    {
      "cell_type": "code",
      "source": [
        "print(similarity_matrix)"
      ],
      "metadata": {
        "colab": {
          "base_uri": "https://localhost:8080/"
        },
        "id": "Z8hHmdlgV3B1",
        "outputId": "7ac943df-5914-4147-f166-14c8e8f08260"
      },
      "execution_count": 7,
      "outputs": [
        {
          "output_type": "stream",
          "name": "stdout",
          "text": [
            "[[1.         0.66854397]\n",
            " [0.66854397 1.        ]]\n"
          ]
        }
      ]
    },
    {
      "cell_type": "code",
      "source": [
        "print( 'Resume matches by: '+ str(similarity_matrix[1][0]*100)+ '%')"
      ],
      "metadata": {
        "colab": {
          "base_uri": "https://localhost:8080/"
        },
        "id": "5MJVBHcFWKPS",
        "outputId": "a1dd57f6-a3f4-4b59-fb2d-8373dacb8d76"
      },
      "execution_count": 8,
      "outputs": [
        {
          "output_type": "stream",
          "name": "stdout",
          "text": [
            "Resume matches by: 66.85439681901849%\n"
          ]
        }
      ]
    }
  ]
}